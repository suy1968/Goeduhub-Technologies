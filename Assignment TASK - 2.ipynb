{
 "cells": [
  {
   "cell_type": "markdown",
   "metadata": {},
   "source": [
    "# SUYASH PRATAP SINGH\n",
    "\n",
    "# Registration ID: GO_STP_6412\n"
   ]
  },
  {
   "cell_type": "markdown",
   "metadata": {},
   "source": [
    "# 1. Is a list mutable?"
   ]
  },
  {
   "cell_type": "markdown",
   "metadata": {},
   "source": [
    "Yes"
   ]
  },
  {
   "cell_type": "markdown",
   "metadata": {
    "id": "v03DTk62bx15"
   },
   "source": [
    "# 2. Does a list need to be homogeneous? "
   ]
  },
  {
   "cell_type": "markdown",
   "metadata": {},
   "source": [
    "No"
   ]
  },
  {
   "cell_type": "markdown",
   "metadata": {
    "id": "QIrFDtcQb2_p"
   },
   "source": [
    "# 3. What is the difference between a list and a tuple?\n",
    "\n",
    "Main difference between list and tuple is that list object is mutable whereas \n",
    "tuple object is immutable. Immutable object can not be modified once it is created in memory. Hence it is not possible to add, modify or remove item from tuple object. On the other hand these operations can be performed on a list."
   ]
  },
  {
   "cell_type": "markdown",
   "metadata": {
    "id": "3m2Nr-UZhIbB"
   },
   "source": [
    "# 4. How to find the number of elements in the list?"
   ]
  },
  {
   "cell_type": "code",
   "execution_count": 1,
   "metadata": {},
   "outputs": [
    {
     "name": "stdout",
     "output_type": "stream",
     "text": [
      "Number of elements in list :  9\n"
     ]
    }
   ],
   "source": [
    "listOfElements = ['Hello', 'Ok', 'is', 'Ok', 'test', 'this', 'is', 'a', 'test']\n",
    "# Get size of a list using len()\n",
    "length = len(listOfElements)\n",
    "print('Number of elements in list : ', length)"
   ]
  },
  {
   "cell_type": "markdown",
   "metadata": {
    "id": "8tZdiKEmjLKP"
   },
   "source": [
    "# 5. How to check whether the list is empty or not?"
   ]
  },
  {
   "cell_type": "code",
   "execution_count": 2,
   "metadata": {
    "colab": {
     "base_uri": "https://localhost:8080/"
    },
    "id": "Tp_297OUm5-z",
    "outputId": "027ea2e6-8fe4-4388-f023-f059f89be38f"
   },
   "outputs": [
    {
     "name": "stdout",
     "output_type": "stream",
     "text": [
      "empty\n"
     ]
    }
   ],
   "source": [
    "list1=[]\n",
    "if len(list1) == 0:\n",
    "    print(\"empty\")\n",
    "else:\n",
    "    print(\"not empty\")"
   ]
  },
  {
   "cell_type": "markdown",
   "metadata": {
    "id": "RtzBTvEHmeIo"
   },
   "source": [
    "# 6. How to find the first and last element of the list?"
   ]
  },
  {
   "cell_type": "code",
   "execution_count": 3,
   "metadata": {
    "colab": {
     "base_uri": "https://localhost:8080/"
    },
    "id": "iekg4ANnoJO6",
    "outputId": "b9f5617d-ab96-4689-8271-9db106b0a742"
   },
   "outputs": [
    {
     "name": "stdout",
     "output_type": "stream",
     "text": [
      "The given list :  ['Sun', 'Mon', 'Tue', 'Wed', 'Thu']\n",
      "The first element of the list :  Sun\n",
      "The last element of the list :  Thu\n"
     ]
    }
   ],
   "source": [
    "Alist = ['Sun','Mon','Tue','Wed','Thu']\n",
    "print(\"The given list : \",Alist)\n",
    "\n",
    "print(\"The first element of the list : \",Alist[0])\n",
    "print(\"The last element of the list : \",Alist[-1])"
   ]
  },
  {
   "cell_type": "markdown",
   "metadata": {
    "id": "SlMJ9WMjonVi"
   },
   "source": [
    "# 7. How to find the largest and lowest value in the list?"
   ]
  },
  {
   "cell_type": "code",
   "execution_count": 4,
   "metadata": {
    "colab": {
     "base_uri": "https://localhost:8080/"
    },
    "id": "TD0Wbe39ooUB",
    "outputId": "825a685f-ff97-4e3d-e685-a5400ef2ecd9"
   },
   "outputs": [
    {
     "name": "stdout",
     "output_type": "stream",
     "text": [
      "How many numbers: 3\n",
      "Enter number 0\n",
      "Enter number 1\n",
      "Enter number 2\n",
      "Maximum element in the list is : 2 \n",
      "Minimum element in the list is : 0\n"
     ]
    }
   ],
   "source": [
    "lst = []\n",
    "num = int(input('How many numbers: '))\n",
    "for n in range(num):\n",
    "    numbers = int(input('Enter number '))\n",
    "    lst.append(numbers)\n",
    "print(\"Maximum element in the list is :\", max(lst), \"\\nMinimum element in the list is :\", min(lst))"
   ]
  },
  {
   "cell_type": "markdown",
   "metadata": {
    "id": "6XGmChxJo1Ki"
   },
   "source": [
    "# 8. How to access elements of the list?"
   ]
  },
  {
   "cell_type": "code",
   "execution_count": 5,
   "metadata": {
    "colab": {
     "base_uri": "https://localhost:8080/"
    },
    "id": "NT09nqgJpJjS",
    "outputId": "1b074753-83ee-4dd7-ed44-d71da07ecdd0"
   },
   "outputs": [
    {
     "name": "stdout",
     "output_type": "stream",
     "text": [
      "list1[0]:  physics\n",
      "list2[1:5]:  [2, 3, 4, 5]\n"
     ]
    }
   ],
   "source": [
    "list1 = ['physics', 'chemistry', 1997, 2000];\n",
    "list2 = [1, 2, 3, 4, 5, 6, 7 ];\n",
    "print(\"list1[0]: \", list1[0])\n",
    "print (\"list2[1:5]: \", list2[1:5])"
   ]
  },
  {
   "cell_type": "markdown",
   "metadata": {
    "id": "S8jDy5MApbI6"
   },
   "source": [
    "# 9. Remove elements in a list before a specific index?"
   ]
  },
  {
   "cell_type": "code",
   "execution_count": 6,
   "metadata": {
    "colab": {
     "base_uri": "https://localhost:8080/"
    },
    "id": "sDwbk4c7pe-B",
    "outputId": "048ab26d-b9fa-40ef-e0c3-9a7df7d18880"
   },
   "outputs": [
    {
     "name": "stdout",
     "output_type": "stream",
     "text": [
      "enter specific index2\n",
      "[1, 3, 4, 5]\n"
     ]
    }
   ],
   "source": [
    "a = [1,2,3,4,5]\n",
    "specific_index = int(input(\"enter specific index\"))\n",
    "a.pop(specific_index - 1)\n",
    "print(a)"
   ]
  },
  {
   "cell_type": "markdown",
   "metadata": {
    "id": "xxcy4bIuq0O4"
   },
   "source": [
    "# 10. Remove elements in a list between 2 indices?"
   ]
  },
  {
   "cell_type": "code",
   "execution_count": 7,
   "metadata": {
    "colab": {
     "base_uri": "https://localhost:8080/"
    },
    "id": "bSeCxg80qUeL",
    "outputId": "5a2d389e-2f64-44a9-df8a-82dfa40418dd"
   },
   "outputs": [
    {
     "name": "stdout",
     "output_type": "stream",
     "text": [
      "enter first index2\n",
      "enter other index4\n",
      "[1, 2, 3, 5]\n"
     ]
    }
   ],
   "source": [
    "a = [1,2,3,4,5]\n",
    "index1 = int(input(\"enter first index\"))\n",
    "index2 = int(input(\"enter other index\"))\n",
    "for i in range(index1 + 1 , index2):\n",
    "  a.pop(i)\n",
    "print(a)"
   ]
  },
  {
   "cell_type": "markdown",
   "metadata": {
    "id": "Fy35fdO4r0vH"
   },
   "source": [
    "# 11. Return every 2nd element in a list between 2 indices?"
   ]
  },
  {
   "cell_type": "code",
   "execution_count": 8,
   "metadata": {
    "colab": {
     "base_uri": "https://localhost:8080/"
    },
    "id": "7mcHflMbsBpk",
    "outputId": "63972831-4f90-405f-df8e-96ea0a65f444"
   },
   "outputs": [
    {
     "name": "stdout",
     "output_type": "stream",
     "text": [
      "enter first index2\n",
      "enter other index5\n",
      "[2, 4]\n"
     ]
    }
   ],
   "source": [
    "a = [1,2,3,4,5]\n",
    "b = []\n",
    "index1 = int(input(\"enter first index\"))\n",
    "index2 = int(input(\"enter other index\"))\n",
    "for i in range(index1, index2, 2):\n",
    "  b.append(i)\n",
    "print(b)"
   ]
  },
  {
   "cell_type": "markdown",
   "metadata": {
    "id": "HFZN81h6sX3p"
   },
   "source": [
    "# 12. Get the first element from each nested list in a list?"
   ]
  },
  {
   "cell_type": "code",
   "execution_count": 9,
   "metadata": {
    "colab": {
     "base_uri": "https://localhost:8080/"
    },
    "id": "_zFo3DfisoGZ",
    "outputId": "b7c98250-d5b7-4bdc-97dd-74d979eb1c86"
   },
   "outputs": [
    {
     "name": "stdout",
     "output_type": "stream",
     "text": [
      "Given List:\n",
      " [['Mon', 1], ['Tue', 'Wed', 'Fri'], [12, 3, 7]]\n",
      "First Items from sublists:\n",
      "\n",
      "Mon\n",
      "Tue\n",
      "12\n"
     ]
    }
   ],
   "source": [
    "Alist = [['Mon', 1], ['Tue', 'Wed', \"Fri\"], [12,3,7]]\n",
    "print(\"Given List:\\n\",Alist)\n",
    "print(\"First Items from sublists:\\n\")\n",
    "for item in Alist:\n",
    "   print((item[0]))"
   ]
  },
  {
   "cell_type": "markdown",
   "metadata": {
    "id": "Wp5V0hiBtC0n"
   },
   "source": [
    "# 13. How to modify elements of the list?"
   ]
  },
  {
   "cell_type": "code",
   "execution_count": 10,
   "metadata": {
    "colab": {
     "base_uri": "https://localhost:8080/"
    },
    "id": "oCf4SR56tAza",
    "outputId": "6a195038-f699-499d-f1f2-682fbf33af95"
   },
   "outputs": [
    {
     "name": "stdout",
     "output_type": "stream",
     "text": [
      "['Perl', 'PHP', 'Java', 'C', 'JavaScript', 'C++']\n",
      "['Python 3', 'PHP', 'Java', 'C', 'JavaScript', 'C++']\n"
     ]
    }
   ],
   "source": [
    "languages = [\"Perl\", \"PHP\", \"Java\", \"C\", \"JavaScript\", \"C++\"]\n",
    "print(languages)\n",
    "\n",
    "languages[0] = \"Python 3\"\n",
    "print(languages)"
   ]
  },
  {
   "cell_type": "markdown",
   "metadata": {
    "id": "0V-3B-80tWwa"
   },
   "source": [
    "# 14. How to concatenate two lists?"
   ]
  },
  {
   "cell_type": "code",
   "execution_count": 11,
   "metadata": {
    "colab": {
     "base_uri": "https://localhost:8080/"
    },
    "id": "hr56vitBtSf3",
    "outputId": "50b0344c-80cf-4ea8-8ebf-6a5995c05f6e"
   },
   "outputs": [
    {
     "name": "stdout",
     "output_type": "stream",
     "text": [
      "Concatenated list using list.extend() : [1, 4, 5, 6, 5, 3, 5, 7, 2, 5]\n"
     ]
    }
   ],
   "source": [
    "test_list3 = [1, 4, 5, 6, 5]\n",
    "test_list4 = [3, 5, 7, 2, 5]\n",
    "test_list3.extend(test_list4)\n",
    "print (\"Concatenated list using list.extend() : \"+ str(test_list3))"
   ]
  },
  {
   "cell_type": "markdown",
   "metadata": {
    "id": "of_FsK0Rudih"
   },
   "source": [
    "# 15. How to add two lists element-wise in python?"
   ]
  },
  {
   "cell_type": "code",
   "execution_count": 12,
   "metadata": {
    "colab": {
     "base_uri": "https://localhost:8080/"
    },
    "id": "YnTcmYqJucQk",
    "outputId": "4956f5cb-4be2-44e1-bc89-69f14ecfc524"
   },
   "outputs": [
    {
     "name": "stdout",
     "output_type": "stream",
     "text": [
      "[5, 7, 9]\n"
     ]
    }
   ],
   "source": [
    "list1 = [1, 2, 3]\n",
    "list2 = [4, 5, 6]\n",
    "sum_list = []\n",
    "for (item1, item2) in zip(list1, list2):\n",
    "    sum_list.append(item1+item2)\n",
    "\n",
    "print(sum_list)\n"
   ]
  },
  {
   "cell_type": "markdown",
   "metadata": {
    "id": "D6uP6jAau90J"
   },
   "source": [
    "# 16. Difference between del and clear?"
   ]
  },
  {
   "cell_type": "markdown",
   "metadata": {
    "id": "CQzOzHdDyFC7"
   },
   "source": [
    "clear() – removes all items from the list\n",
    "\n",
    "a.clear()\n",
    "\n",
    "Element deletion – it is possible to delete multiple elements in the list using the del keyword and slice notation:\n",
    "\n",
    "a = list(range(10))\n",
    "\n",
    "del a[::2]\n",
    "\n",
    "# a = [1, 3, 5, 7, 9]"
   ]
  },
  {
   "cell_type": "markdown",
   "metadata": {
    "id": "96v1qM-vyWaN"
   },
   "source": [
    "# 17. Difference between remove and pop?"
   ]
  },
  {
   "cell_type": "markdown",
   "metadata": {
    "id": "5Zq1yXAqyn3T"
   },
   "source": [
    "remove(value) – removes the first occurrence of the specified value. If the provided value cannot be found, a ValueError is raised.\n",
    "\n",
    "a.remove(0)\n",
    "\n",
    "a.remove(9)\n",
    "\n",
    "# a: [1, 2, 3, 4, 5, 6, 7, 8]\n",
    "\n",
    "pop([index]) – removes and returns the item at index. With no argument it removes and returns the last element of the list.\n",
    "\n",
    "a.pop(2)\n",
    "\n",
    "# Returns: 5\n",
    "\n",
    "# a: [0, 1, 2, 3, 4, 5, 6, 7, 7, 8, 9, 10]\n",
    "\n",
    "a.pop(8)\n",
    "\n",
    "# Returns: 7"
   ]
  },
  {
   "cell_type": "markdown",
   "metadata": {
    "id": "BwLSuc3mzNh6"
   },
   "source": [
    "# 18. Difference between append and extend?"
   ]
  },
  {
   "cell_type": "markdown",
   "metadata": {
    "id": "2CiRFbZH0WvC"
   },
   "source": [
    "extend(enumerable) – extends the list by appending elements from another enumerable \n",
    "\n",
    "\n",
    "a = [1, 2, 3, 4, 5, 6, 7, 7]\n",
    "\n",
    "b = [8, 9, 10]\n",
    "\n",
    "# Extend list by appending all elements from b\n",
    "\n",
    "a.extend(b)\n",
    "\n",
    "# a: [1, 2, 3, 4, 5, 6, 7, 7, 8, 9, 10]\n",
    "\n",
    "append(value) – appends a new element to the end of the list.\n",
    "\n",
    "# Append values 6, 7, and 7 to the list\n",
    "\n",
    "a.append(6)\n",
    "\n",
    "a.append(7)\n",
    "\n",
    "a.append(7)\n",
    "\n",
    "# a: [1, 2, 3, 4, 5, 6, 7, 7]"
   ]
  },
  {
   "cell_type": "markdown",
   "metadata": {
    "id": "vvUoTTIy0d6S"
   },
   "source": [
    "# 19. Difference between indexing and Slicing?"
   ]
  },
  {
   "cell_type": "markdown",
   "metadata": {
    "id": "PL3aVy3N0i5C"
   },
   "source": [
    "Slicing\n",
    "A slice is a subset of list elements. In the case of lists, a single slice will always be of contiguous elements. Slice notation takes the form\n",
    "my_list[start:stop]\n",
    "\n",
    "Indexing\n",
    "To retrieve an element of the list, we use the index operator ([]):\n",
    "my_list[0]\n",
    "'a'"
   ]
  },
  {
   "cell_type": "markdown",
   "metadata": {
    "id": "Nrromsb_1E5j"
   },
   "source": [
    "# 20. Difference between sort and sorted?"
   ]
  },
  {
   "cell_type": "code",
   "execution_count": 13,
   "metadata": {
    "colab": {
     "base_uri": "https://localhost:8080/"
    },
    "id": "RBlPLHnr2Kw7",
    "outputId": "d4b6b856-5b9b-4cbc-bae0-8b367d3137b6"
   },
   "outputs": [
    {
     "name": "stdout",
     "output_type": "stream",
     "text": [
      "Sorted list:\n",
      "[1, 2, 3, 4, 5]\n",
      "\n",
      "Reverse sorted list:\n",
      "[5, 4, 3, 2, 1]\n",
      "\n",
      "Original list after sorting:\n",
      "[1, 2, 3, 4, 5]\n"
     ]
    }
   ],
   "source": [
    "# Python program to demonstrate\n",
    "# sorted()\n",
    "  \n",
    "  \n",
    "L = [1, 2, 3, 4, 5]\n",
    "  \n",
    "print(\"Sorted list:\")\n",
    "print(sorted(L))\n",
    "  \n",
    "print(\"\\nReverse sorted list:\")\n",
    "print(sorted(L, reverse = True))\n",
    "  \n",
    "print(\"\\nOriginal list after sorting:\")\n",
    "print(L)"
   ]
  },
  {
   "cell_type": "code",
   "execution_count": 14,
   "metadata": {
    "colab": {
     "base_uri": "https://localhost:8080/"
    },
    "id": "4WM0FMiC2Mik",
    "outputId": "4210fc51-3c89-4db4-bd19-125dac959174"
   },
   "outputs": [
    {
     "name": "stdout",
     "output_type": "stream",
     "text": [
      "[1, 2, 3, 4]\n",
      "[1.68, 2.0, 2.01, 3.28, 3.67]\n",
      "['For', 'Geeks', 'Geeks']\n"
     ]
    }
   ],
   "source": [
    "# Python program to demonstrate\n",
    "# sort()\n",
    "  \n",
    "  \n",
    "# List of Integers \n",
    "numbers = [1, 3, 4, 2] \n",
    "    \n",
    "# Sorting list of Integers \n",
    "numbers.sort() \n",
    "    \n",
    "print(numbers) \n",
    "    \n",
    "# List of Floating point numbers \n",
    "decimalnumber = [2.01, 2.00, 3.67, 3.28, 1.68] \n",
    "    \n",
    "# Sorting list of Floating point numbers \n",
    "decimalnumber.sort() \n",
    "    \n",
    "print(decimalnumber) \n",
    "    \n",
    "# List of strings \n",
    "words = [\"Geeks\", \"For\", \"Geeks\"] \n",
    "    \n",
    "# Sorting list of strings \n",
    "words.sort() \n",
    "    \n",
    "print(words) "
   ]
  },
  {
   "cell_type": "markdown",
   "metadata": {
    "id": "7OKtVdWs1TIq"
   },
   "source": [
    "# 21. Difference between reverse and reversed?"
   ]
  },
  {
   "cell_type": "code",
   "execution_count": 15,
   "metadata": {
    "colab": {
     "base_uri": "https://localhost:8080/"
    },
    "id": "pduJVMBT2zXF",
    "outputId": "81c5bff6-45d7-4003-92ba-0e1f655357d7"
   },
   "outputs": [
    {
     "name": "stdout",
     "output_type": "stream",
     "text": [
      "China\n",
      "USA\n",
      "India\n"
     ]
    }
   ],
   "source": [
    "#If you need to access individual elements of a list in reverse order, it’s better to use reversed() method in Python.\n",
    "\n",
    "# Countries Name List\n",
    "countries = ['India', 'USA', 'China']\n",
    "\n",
    "# Printing Elements in Reversed Order\n",
    "for c in reversed(countries):\n",
    "    print(c)"
   ]
  },
  {
   "cell_type": "code",
   "execution_count": 16,
   "metadata": {
    "colab": {
     "base_uri": "https://localhost:8080/"
    },
    "id": "hDN8pXle21QH",
    "outputId": "8fa0f40c-0d71-41be-ef60-a9750b4bfd3f"
   },
   "outputs": [
    {
     "name": "stdout",
     "output_type": "stream",
     "text": [
      "Original List of Countries: ['India', 'USA', 'China', 'Japan', 'UK']\n",
      "Updated List of Countries: ['UK', 'Japan', 'China', 'USA', 'India']\n"
     ]
    }
   ],
   "source": [
    "#Basic Example to Reverse a list in Python using the reverse()\n",
    "\n",
    "#List of Countries\n",
    "countries = ['India', 'USA', 'China', 'Japan', 'UK']\n",
    "print('Original List of Countries:', countries)\n",
    "\n",
    "# List Reverse\n",
    "countries.reverse()\n",
    "\n",
    "# updated list\n",
    "print('Updated List of Countries:', countries)"
   ]
  },
  {
   "cell_type": "markdown",
   "metadata": {
    "id": "ZvK_MBbP272t"
   },
   "source": [
    "# 22. Difference between copy and deepcopy?"
   ]
  },
  {
   "cell_type": "markdown",
   "metadata": {
    "id": "A1RHJ9WJ3lT5"
   },
   "source": [
    "If you want to create a copy of the list you have below options.\n",
    "copy() – Returns a shallow copy of the list\n",
    "\n",
    "aa = a.copy()\n",
    "\n",
    "# aa = [1, 2, 3, 4, 5]\n",
    "\n",
    "Deep copy is a process in which the copying process occurs recursively. It means first constructing a new collection object and then recursively populating it with copies of the child objects found in the original. In case of deep copy, a copy of object is copied in other object. It means that any changes made to a copy of object do not reflect in the original object. In python, this is implemented using “deepcopy()” function."
   ]
  },
  {
   "cell_type": "markdown",
   "metadata": {
    "id": "vkEMDqfG4Ocb"
   },
   "source": [
    "# 23. How to remove duplicate elements in the list?"
   ]
  },
  {
   "cell_type": "code",
   "execution_count": 17,
   "metadata": {
    "colab": {
     "base_uri": "https://localhost:8080/"
    },
    "id": "nbG5jJH34RZ-",
    "outputId": "c8ce8923-b635-4294-babd-be016f8bc44c"
   },
   "outputs": [
    {
     "name": "stdout",
     "output_type": "stream",
     "text": [
      "The original list is : [1, 5, 3, 6, 3, 5, 6, 1]\n",
      "The list after removing duplicates : [1, 3, 5, 6]\n"
     ]
    }
   ],
   "source": [
    "test_list = [1, 5, 3, 6, 3, 5, 6, 1]\n",
    "print (\"The original list is : \" +  str(test_list))\n",
    "test_list = list(set(test_list))\n",
    "print (\"The list after removing duplicates : \" + str(test_list))"
   ]
  },
  {
   "cell_type": "markdown",
   "metadata": {
    "id": "e5K9WaeJ48x8"
   },
   "source": [
    "# 24. How to find an index of an element in the python list?\n",
    "\n",
    "The index() method returns the index of the given element in the list."
   ]
  },
  {
   "cell_type": "markdown",
   "metadata": {
    "id": "orVuHQkv5BN7"
   },
   "source": [
    "# 25. How to find the occurrences of an element in the python list?"
   ]
  },
  {
   "cell_type": "code",
   "execution_count": 18,
   "metadata": {
    "colab": {
     "base_uri": "https://localhost:8080/"
    },
    "id": "sEZo_Ana4jWK",
    "outputId": "93b5b4cb-235b-4aca-e017-f9fcf110e5bd"
   },
   "outputs": [
    {
     "name": "stdout",
     "output_type": "stream",
     "text": [
      "3 has occurred 2 times\n"
     ]
    }
   ],
   "source": [
    "from collections import Counter\n",
    " \n",
    "# declaring the list\n",
    "l = [1, 1, 2, 2, 3, 3, 4, 4, 5, 5]\n",
    " \n",
    "# driver program\n",
    "x = 3\n",
    "d = Counter(l)\n",
    "print('{} has occurred {} times'.format(x, d[x]))"
   ]
  },
  {
   "cell_type": "markdown",
   "metadata": {
    "id": "FprbkljF45-5"
   },
   "source": [
    "# 26. How to insert an item at a given position?"
   ]
  },
  {
   "cell_type": "markdown",
   "metadata": {
    "id": "mLdAbnGx5u-s"
   },
   "source": [
    "insert(index, value) – inserts value just before the specified index. Thus after the insertion the new element occupies position index.\n",
    "\n",
    "a.insert(0, 0) # insert 0 at position 0\n",
    "\n",
    "a.insert(2, 5) # insert 5 at position 2\n",
    "\n",
    "# a: [0, 1, 5, 2, 3, 4, 5, 6, 7, 7, 8, 9, 10]"
   ]
  },
  {
   "cell_type": "markdown",
   "metadata": {
    "id": "ig4QfM7D5wDr"
   },
   "source": [
    "# 27. How to check if an item is in the list?"
   ]
  },
  {
   "cell_type": "markdown",
   "metadata": {
    "id": "dW5RdxgB8kVV"
   },
   "source": [
    "# Checking if 4 exists in list \n",
    "# using in\n",
    "if (4 in test_list):\n",
    "    print (\"Element Exists\")"
   ]
  },
  {
   "cell_type": "markdown",
   "metadata": {
    "id": "5BVMLIIi8bPO"
   },
   "source": [
    "# 28. How to flatten a list in python?"
   ]
  },
  {
   "cell_type": "code",
   "execution_count": 19,
   "metadata": {
    "colab": {
     "base_uri": "https://localhost:8080/"
    },
    "id": "RS7Y-HUb8af0",
    "outputId": "064a9a8d-d61f-4225-8df5-234aac5f04c1"
   },
   "outputs": [
    {
     "name": "stdout",
     "output_type": "stream",
     "text": [
      "[1, 2, 3, 4, 'Ten', 'Twenty', 'Thirty', 1.1, 10.0, (1+2j), 20.55, 3.142]\n"
     ]
    }
   ],
   "source": [
    "nestedlist = [ [1, 2, 3, 4], [\"Ten\", \"Twenty\", \"Thirty\"], [1.1,  1.0E1, 1+2j, 20.55, 3.142]]\n",
    "flatlist=[]\n",
    "for sublist in nestedlist:\n",
    "    for element in sublist:\n",
    "        flatlist.append(element)\n",
    "print(flatlist)"
   ]
  },
  {
   "cell_type": "markdown",
   "metadata": {
    "id": "ubMy1N2-8_vV"
   },
   "source": [
    "# 29. How to convert python list to other data structures like set, tuple, dictionary?\n"
   ]
  },
  {
   "cell_type": "code",
   "execution_count": 20,
   "metadata": {
    "id": "64VmGu3O82tb"
   },
   "outputs": [],
   "source": [
    "def list_to_set(int_list):\n",
    "    my_set = set()\n",
    "    for each in int_list:\n",
    "        my_set.add(each)\n",
    "    \n",
    "    return my_set"
   ]
  },
  {
   "cell_type": "code",
   "execution_count": 21,
   "metadata": {
    "id": "zprFyXAm9QKy"
   },
   "outputs": [],
   "source": [
    "def list_to_dict(key_list, value_list):\n",
    "    my_dict = {}\n",
    "    for i in range (0, len(key_list)):\n",
    "        my_dict[key_list[i]] = value_list[i]\n",
    "        \n",
    "    return my_dict"
   ]
  },
  {
   "cell_type": "code",
   "execution_count": 22,
   "metadata": {
    "id": "6HZ5rnP29Uai"
   },
   "outputs": [],
   "source": [
    "def list_to_tuple(list):\n",
    "    return tuple(list)\n",
    "  "
   ]
  },
  {
   "cell_type": "markdown",
   "metadata": {
    "id": "bH6eVR4U9kDm"
   },
   "source": [
    "# 30 How to apply a function to all items in the list?"
   ]
  },
  {
   "cell_type": "code",
   "execution_count": 23,
   "metadata": {
    "colab": {
     "base_uri": "https://localhost:8080/"
    },
    "id": "nHRZxJmR9jHK",
    "outputId": "b1cd1806-b30f-4da7-b9b0-c995dfad20b2"
   },
   "outputs": [
    {
     "name": "stdout",
     "output_type": "stream",
     "text": [
      "[2, 4, 6]\n"
     ]
    }
   ],
   "source": [
    "def double(integer):\n",
    "    return integer*2\n",
    "  \n",
    "  \n",
    "# driver code\n",
    "integer_list = [1, 2, 3]\n",
    "  \n",
    "# Map method returns a map object\n",
    "# so we cast it into list using list()\n",
    "output_list = list(map(double, integer_list))\n",
    "  \n",
    "print(output_list)"
   ]
  },
  {
   "cell_type": "markdown",
   "metadata": {
    "id": "wqGaeuKh-Kol"
   },
   "source": [
    "# 31. How to filter the elements based on a function in a python list?"
   ]
  },
  {
   "cell_type": "code",
   "execution_count": 24,
   "metadata": {
    "colab": {
     "base_uri": "https://localhost:8080/"
    },
    "id": "9G7Cwle1-IXX",
    "outputId": "dab96fc5-2361-4c79-9385-8144a07aa217"
   },
   "outputs": [
    {
     "name": "stdout",
     "output_type": "stream",
     "text": [
      "The filtered letters are:\n",
      "e\n",
      "e\n"
     ]
    }
   ],
   "source": [
    "# function that filters vowels\n",
    "def fun(variable):\n",
    "    letters = ['a', 'e', 'i', 'o', 'u']\n",
    "    if (variable in letters):\n",
    "        return True\n",
    "    else:\n",
    "        return False\n",
    "  \n",
    "  \n",
    "# sequence\n",
    "sequence = ['g', 'e', 'e', 'j', 'k', 's', 'p', 'r']\n",
    "  \n",
    "# using filter function\n",
    "filtered = filter(fun, sequence)\n",
    "  \n",
    "print('The filtered letters are:')\n",
    "for s in filtered:\n",
    "    print(s)"
   ]
  },
  {
   "cell_type": "markdown",
   "metadata": {
    "id": "NYvZjYf5-tum"
   },
   "source": [
    "# 32. How python lists are stored in memory?"
   ]
  },
  {
   "cell_type": "markdown",
   "metadata": {
    "id": "eg2hmdUS_P43"
   },
   "source": [
    "Lists, then, are stored in distinct chunks of memory which are linked together with pointers, which enables efficient use of memory generally and doesn't require resizing."
   ]
  },
  {
   "cell_type": "markdown",
   "metadata": {},
   "source": [
    "# THANK YOU"
   ]
  }
 ],
 "metadata": {
  "colab": {
   "collapsed_sections": [],
   "name": "STP-3.ipynb",
   "provenance": []
  },
  "kernelspec": {
   "display_name": "Python 3",
   "language": "python",
   "name": "python3"
  },
  "language_info": {
   "codemirror_mode": {
    "name": "ipython",
    "version": 3
   },
   "file_extension": ".py",
   "mimetype": "text/x-python",
   "name": "python",
   "nbconvert_exporter": "python",
   "pygments_lexer": "ipython3",
   "version": "3.8.1"
  }
 },
 "nbformat": 4,
 "nbformat_minor": 1
}
