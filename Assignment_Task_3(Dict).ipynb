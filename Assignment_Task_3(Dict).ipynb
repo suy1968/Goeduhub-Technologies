{
 "cells": [
  {
   "cell_type": "markdown",
   "metadata": {},
   "source": [
    "# SUYASH PRATAP SINGH\n",
    "\n",
    "\n",
    "# Registration ID: GO_STP_6412"
   ]
  },
  {
   "cell_type": "markdown",
   "metadata": {},
   "source": [
    "# Q.1 Write a Python Program to sort (ascending and descending) a dictionary by value."
   ]
  },
  {
   "cell_type": "code",
   "execution_count": 1,
   "metadata": {
    "colab": {
     "base_uri": "https://localhost:8080/"
    },
    "id": "unvwoZLS3J52",
    "outputId": "2d87d6ad-7696-4d0c-e5d9-4620e76469ae"
   },
   "outputs": [
    {
     "name": "stdout",
     "output_type": "stream",
     "text": [
      "[1, 2, 3, 4, 5, 6]\n",
      "[(1, 2), (2, 1), (3, 4), (4, 3), (5, 6), (6, 5)]\n"
     ]
    }
   ],
   "source": [
    "a = {1:2 ,2:1 ,4:3 ,3:4 ,6:5 ,5:6 }\n",
    "#this will print a sorted list of the keys\n",
    "print(sorted(a.values()))\n",
    "#this will print the sorted list with items.\n",
    "print(sorted(a.items()))"
   ]
  },
  {
   "cell_type": "markdown",
   "metadata": {
    "id": "ZCmR7SXt7o_O"
   },
   "source": [
    "# Q.2 Write a Python Program to add a key to a dictionary. "
   ]
  },
  {
   "cell_type": "code",
   "execution_count": 2,
   "metadata": {
    "colab": {
     "base_uri": "https://localhost:8080/"
    },
    "id": "mjnz6_QM6Vcy",
    "outputId": "9a88eb61-e7ef-49fb-aa15-4f78f2a40836"
   },
   "outputs": [
    {
     "name": "stdout",
     "output_type": "stream",
     "text": [
      "{0: 10, 1: 20}\n",
      "{0: 10, 1: 20, 2: 30}\n"
     ]
    }
   ],
   "source": [
    "d = {0:10, 1:20}\n",
    "print(d)\n",
    "d.update({2:30})\n",
    "print(d)"
   ]
  },
  {
   "cell_type": "markdown",
   "metadata": {
    "id": "1G1zpOvb8DE8"
   },
   "source": [
    "# Q.3 Write a  program asks for City name and Temperature and builds a dictionary using that Later on you can input City name and it will tell you the Temperature of that City."
   ]
  },
  {
   "cell_type": "code",
   "execution_count": 3,
   "metadata": {
    "colab": {
     "base_uri": "https://localhost:8080/"
    },
    "id": "0lrjfq3v8BI7",
    "outputId": "5bd2818d-d4ba-4b18-f58e-68447707b03e"
   },
   "outputs": [
    {
     "name": "stdout",
     "output_type": "stream",
     "text": [
      "enter city name and temperature and enter 0 0 for discontinuinglucknow  32\n",
      "enter city name and temperaturesuy 31\n",
      "enter city name and temperaturemp 35\n",
      "enter city name and temperature0 0\n"
     ]
    }
   ],
   "source": [
    "name,temp = input(\"enter city name and temperature and enter 0 0 for discontinuing\").split()\n",
    "t = {}\n",
    "t.update({name:int(temp)})\n",
    "while name and int(temp):\n",
    "  name,temp = input(\"enter city name and temperature\").split()\n",
    "  t.update({name:int(temp)}) "
   ]
  },
  {
   "cell_type": "code",
   "execution_count": 5,
   "metadata": {
    "colab": {
     "base_uri": "https://localhost:8080/"
    },
    "id": "2qGoDxYBDv_Q",
    "outputId": "c74afc20-e332-472c-85b6-30c83c4aa4f3"
   },
   "outputs": [
    {
     "name": "stdout",
     "output_type": "stream",
     "text": [
      "enter city namelucknow\n",
      "32\n"
     ]
    }
   ],
   "source": [
    "name = input(\"enter city name\")\n",
    "print(t[name])"
   ]
  },
  {
   "cell_type": "markdown",
   "metadata": {
    "id": "eBNXVx3uJTGn"
   },
   "source": [
    "# Q. 4 Write a Python program to convert list to list of dictionaries."
   ]
  },
  {
   "cell_type": "code",
   "execution_count": 6,
   "metadata": {
    "colab": {
     "base_uri": "https://localhost:8080/"
    },
    "id": "f7HxNbfgIqu3",
    "outputId": "255ca542-8feb-453e-d9c8-9f836a1f949f"
   },
   "outputs": [
    {
     "name": "stdout",
     "output_type": "stream",
     "text": [
      "The original list : ['Gfg', 3, 'is', 8, 'Best', 10, 'for', 18, 'Geeks', 33]\n",
      "The constructed dictionary list : [{'name': 'Gfg', 'number': 3}, {'name': 'is', 'number': 8}, {'name': 'Best', 'number': 10}, {'name': 'for', 'number': 18}, {'name': 'Geeks', 'number': 33}]\n"
     ]
    }
   ],
   "source": [
    "test_list = [\"Gfg\", 3, \"is\", 8, \"Best\", 10, \"for\", 18, \"Geeks\", 33]\n",
    "print(\"The original list : \" + str(test_list))\n",
    "\n",
    "key_list = [\"name\", \"number\"]\n",
    "  \n",
    "n = len(test_list)\n",
    "res = []\n",
    "for idx in range(0, n, 2):\n",
    "    res.append({key_list[0]: test_list[idx], key_list[1] : test_list[idx + 1]})\n",
    "\n",
    "print(\"The constructed dictionary list : \" + str(res))"
   ]
  },
  {
   "cell_type": "markdown",
   "metadata": {
    "id": "r7g9FNYFKHBn"
   },
   "source": [
    "# Q. 5 We have following information on Employees and their Salary (Salary is in lakhs),\n",
    "\n",
    "Employee |\tSalary\n",
    "\n",
    "John\t   | 14\n",
    "\n",
    "Smith\t   | 13\n",
    "\n",
    "Alice\t   | 32\n",
    "\n",
    "Daneil\t | 21\n",
    "\n",
    "Using above create a dictionary of Employees and their Salary\n",
    "\n",
    "Write a program that asks user for three type of inputs,\n",
    "\n",
    "print: if user enter print then it should print all Employees with their Salary in this format,\n",
    "John ==>14\n",
    "Smith ==>13\n",
    "Alice ==>32\n",
    " Daneil ==>21\n",
    "\n",
    "add: if user input adds then it should further ask for an Employee name to add. If Employee already exists in our dataset then it should print that it exists and do nothing. If it doesn't then it asks for Salary and add that new Employee/Salary in our dictionary and print it\n",
    "\n",
    "remove: when user inputs remove it should ask for an Employee to remove. If an Employee exists in our dictionary then remove it and print a new dictionary using format shown above in (a). Else print that Employee doesn't exist!\n",
    "\n",
    "query: on this again ask the user for which Employee he or she wants to query. When a user inputs that Employee it will print the Salary of that Employee."
   ]
  },
  {
   "cell_type": "code",
   "execution_count": 10,
   "metadata": {},
   "outputs": [
    {
     "name": "stdout",
     "output_type": "stream",
     "text": [
      "{'John': 14, 'Smith': 13, 'Alice': 32, 'Daniel': 21}\n"
     ]
    }
   ],
   "source": [
    "vin = ['John','Smith','Alice','Daniel']\n",
    "kp = [14, 13, 32, 21]\n",
    "Dict = dict(zip(vin, kp))\n",
    "print(Dict)\n"
   ]
  },
  {
   "cell_type": "code",
   "execution_count": 13,
   "metadata": {
    "id": "oUHDKltXKAxN"
   },
   "outputs": [
    {
     "name": "stdout",
     "output_type": "stream",
     "text": [
      "Enter your choice : print or add or remove or query: remove\n",
      "Enter the name of the employee to be removed? Alice\n",
      "{'John': 14, 'Smith': 13, 'Daniel': 21}\n"
     ]
    }
   ],
   "source": [
    "vin = ['John','Smith','Alice','Daniel']\n",
    "kp = [14, 13, 32, 21]\n",
    "\n",
    "inp= input(\"Enter your choice : print or add or remove or query: \")\n",
    "if inp == 'print':\n",
    "    Dict = dict(zip(vin, kp))\n",
    "    for a in Dict:\n",
    "        print(a,\"==>\",Dict[f\"{a}\"])\n",
    "elif inp =='add':\n",
    "    emp= input(\"Enter the name of the Employee to be added: \")\n",
    "    if emp.title() in Dict.keys():\n",
    "        print(f\"{emp} name is already existing!\")\n",
    "    else:\n",
    "        salr = input(f\"Enter the salary of the {emp} \")\n",
    "        Dict.update({emp : salr})\n",
    "        print(Dict)\n",
    "elif inp == 'remove':\n",
    "    name = input(\"Enter the name of the employee to be removed? \")\n",
    "    if name in Dict:\n",
    "        Dict.pop(name)\n",
    "        print(Dict)\n",
    "    else:\n",
    "        print(f\"Sorry!!, {name} doesn't exist in the data!\")\n",
    "elif inp == 'query':\n",
    "    emp= input(\"Enter the name of the employee you want to query: \").title()\n",
    "    if emp in Dict.keys():\n",
    "        print(f\"The salary of {emp} is {Dict[emp]}\")\n",
    "    else:\n",
    "        print(f\"The employee named {emp} doesn't exist!!\")\n",
    "else:\n",
    "    print(\"Enter a valid choice\")"
   ]
  },
  {
   "cell_type": "markdown",
   "metadata": {
    "id": "bSaUKKQhK9SB"
   },
   "source": [
    "# Questions on Sets-"
   ]
  },
  {
   "cell_type": "markdown",
   "metadata": {},
   "source": [
    "# Q.1 What is the difference between a set and a frozenset? Create any set and try to use frozenset(setname)."
   ]
  },
  {
   "cell_type": "markdown",
   "metadata": {
    "id": "fnupL4nXLNcB"
   },
   "source": [
    "Frozen set is just an immutable version of a Python set object. While elements of a set can be modified at any time, elements of the frozen set remain the same after creation. Due to this, frozen sets can be used as keys in Dictionary or as elements of another set."
   ]
  },
  {
   "cell_type": "code",
   "execution_count": 7,
   "metadata": {
    "colab": {
     "base_uri": "https://localhost:8080/"
    },
    "id": "lVqhdB-KLHXP",
    "outputId": "9d7796c4-adf4-4929-890b-b69e48861026"
   },
   "outputs": [
    {
     "name": "stdout",
     "output_type": "stream",
     "text": [
      "frozenset Object is :  frozenset({1, 2, 3, 4, 5, 6, 7, 8, 9})\n"
     ]
    }
   ],
   "source": [
    "setname = (1, 2, 3, 4, 5, 6, 7, 8, 9)\n",
    "\n",
    "fnum = frozenset(setname)\n",
    "print(\"frozenset Object is : \", fnum)"
   ]
  },
  {
   "cell_type": "markdown",
   "metadata": {
    "id": "vSstNgvCL3Z4"
   },
   "source": [
    "# Q.2 Find the elements in a given set that are not in another set\n",
    "\n",
    "    set1 = {10,20,30,40,50}\n",
    "\n",
    "    set2 = {40,50,60,70,80}\n",
    "\n",
    " Difference between set1 and set2 is {10,20,30}"
   ]
  },
  {
   "cell_type": "code",
   "execution_count": 8,
   "metadata": {
    "colab": {
     "base_uri": "https://localhost:8080/"
    },
    "id": "nSQ4KOpVLY2u",
    "outputId": "8c81f21d-c5fe-44ec-bd5e-8d41631ca586"
   },
   "outputs": [
    {
     "name": "stdout",
     "output_type": "stream",
     "text": [
      "Original sets:\n",
      "{40, 10, 50, 20, 30}\n",
      "{70, 40, 80, 50, 60}\n",
      "Difference of set1 and set2 using difference():\n",
      "{10, 20, 30}\n"
     ]
    }
   ],
   "source": [
    "set1 = {10,20,30,40,50}\n",
    "set2 = {40,50,60,70,80}\n",
    "print(\"Original sets:\")\n",
    "print(set1)\n",
    "print(set2)\n",
    "print(\"Difference of set1 and set2 using difference():\")\n",
    "print(set1.difference(set2))"
   ]
  },
  {
   "cell_type": "markdown",
   "metadata": {
    "id": "3SyTiui5MsiE"
   },
   "source": [
    "# THANK YOU"
   ]
  }
 ],
 "metadata": {
  "colab": {
   "collapsed_sections": [],
   "name": "Assignment/Task 3.ipynb",
   "provenance": []
  },
  "kernelspec": {
   "display_name": "Python 3",
   "language": "python",
   "name": "python3"
  },
  "language_info": {
   "codemirror_mode": {
    "name": "ipython",
    "version": 3
   },
   "file_extension": ".py",
   "mimetype": "text/x-python",
   "name": "python",
   "nbconvert_exporter": "python",
   "pygments_lexer": "ipython3",
   "version": "3.8.1"
  }
 },
 "nbformat": 4,
 "nbformat_minor": 1
}
